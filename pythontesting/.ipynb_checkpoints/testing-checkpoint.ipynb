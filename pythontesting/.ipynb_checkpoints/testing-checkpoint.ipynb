{
 "cells": [
  {
   "cell_type": "code",
   "execution_count": 3,
   "metadata": {},
   "outputs": [
    {
     "ename": "ModuleNotFoundError",
     "evalue": "No module named 'sshtunnel'",
     "output_type": "error",
     "traceback": [
      "\u001b[0;31m---------------------------------------------------------------------------\u001b[0m",
      "\u001b[0;31mModuleNotFoundError\u001b[0m                       Traceback (most recent call last)",
      "\u001b[0;32m<ipython-input-3-4628c475b384>\u001b[0m in \u001b[0;36m<module>\u001b[0;34m\u001b[0m\n\u001b[1;32m      1\u001b[0m \u001b[0;32mimport\u001b[0m \u001b[0mpsycopg2\u001b[0m\u001b[0;34m\u001b[0m\u001b[0;34m\u001b[0m\u001b[0m\n\u001b[0;32m----> 2\u001b[0;31m \u001b[0;32mfrom\u001b[0m \u001b[0msshtunnel\u001b[0m \u001b[0;32mimport\u001b[0m \u001b[0mSSHTunnelForwarder\u001b[0m\u001b[0;34m\u001b[0m\u001b[0;34m\u001b[0m\u001b[0m\n\u001b[0m\u001b[1;32m      3\u001b[0m \u001b[0;32mimport\u001b[0m \u001b[0mos\u001b[0m\u001b[0;34m\u001b[0m\u001b[0;34m\u001b[0m\u001b[0m\n\u001b[1;32m      4\u001b[0m \u001b[0;34m\u001b[0m\u001b[0m\n\u001b[1;32m      5\u001b[0m \u001b[0musername\u001b[0m \u001b[0;34m=\u001b[0m \u001b[0;34m\"sdm9252\"\u001b[0m\u001b[0;34m\u001b[0m\u001b[0;34m\u001b[0m\u001b[0m\n",
      "\u001b[0;31mModuleNotFoundError\u001b[0m: No module named 'sshtunnel'"
     ]
    }
   ],
   "source": [
    "import psycopg2\n",
    "from sshtunnel import SSHTunnelForwarder\n",
    "import os\n",
    "\n",
    "username = \"sdm9252\"\n",
    "password = os.getenv('MY_PWD')\n",
    "dbName = \"p320_13\"\n",
    "\n",
    "\n",
    "try:\n",
    "    with SSHTunnelForwarder(('starbug.cs.rit.edu', 22),\n",
    "                            ssh_username=username,\n",
    "                            ssh_password=password,\n",
    "                            remote_bind_address=('127.0.0.1', 5432)) as server:\n",
    "        server.start()\n",
    "        print(\"SSH tunnel established\")\n",
    "        params = {\n",
    "            'database': dbName,\n",
    "            'user': username,\n",
    "            'password': password,\n",
    "            'host': 'localhost',\n",
    "            'port': server.local_bind_port\n",
    "        }\n",
    "\n",
    "\n",
    "        conn = psycopg2.connect(**params)\n",
    "        curs = conn.cursor()\n",
    "        print(\"Database connection established\")\n",
    "\n",
    "        # DB work here....\n",
    "\n",
    "        \n",
    "except:\n",
    "    print(\"Connection failed\")"
   ]
  },
  {
   "cell_type": "code",
   "execution_count": null,
   "metadata": {},
   "outputs": [],
   "source": []
  }
 ],
 "metadata": {
  "kernelspec": {
   "display_name": "Python 3",
   "language": "python",
   "name": "python3"
  },
  "language_info": {
   "codemirror_mode": {
    "name": "ipython",
    "version": 3
   },
   "file_extension": ".py",
   "mimetype": "text/x-python",
   "name": "python",
   "nbconvert_exporter": "python",
   "pygments_lexer": "ipython3",
   "version": "3.8.10"
  }
 },
 "nbformat": 4,
 "nbformat_minor": 2
}
